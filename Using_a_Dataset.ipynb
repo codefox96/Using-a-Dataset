{
  "nbformat": 4,
  "nbformat_minor": 0,
  "metadata": {
    "colab": {
      "name": "Using a Dataset.ipynb",
      "provenance": [],
      "collapsed_sections": []
    },
    "kernelspec": {
      "name": "python3",
      "display_name": "Python 3"
    }
  },
  "cells": [
    {
      "cell_type": "code",
      "metadata": {
        "id": "-j8gitCf7v4G",
        "colab_type": "code",
        "outputId": "7befa056-13a2-4a3f-a020-a63c19b98db8",
        "colab": {
          "base_uri": "https://localhost:8080/",
          "height": 575
        }
      },
      "source": [
        "from keras.datasets import mnist\n",
        "import matplotlib.pyplot as plt\n",
        "import numpy as np\n",
        "from random import randint\n",
        "\n",
        "#Loads data\n",
        "(x_train, y_train), (x_test,y_test) = mnist.load_data()\n",
        "\n",
        "#Gives the size and shape of the data\n",
        "print(\"(# of images,x-pixel size, y-pixel size):\",x_train.shape)  #x_train\n",
        "print(\"(# of images,x-pixel size, y-pixel size):\",y_train.shape)  #y_train\n",
        "print(\"(# of images,x-pixel size, y-pixel size):\",x_test.shape)   #x_test\n",
        "print(\"(# of images,x-pixel size, y-pixel size):\",y_test.shape)   #y_test\n",
        "\n",
        "#Function that displays data from (x_test,y_test) set\n",
        "def xy():\n",
        "  columns = 5\n",
        "  rows = 2\n",
        "  fig = plt.figure(figsize=(11,5))\n",
        "  \n",
        "  #Outputs random images continuously until the limit is reached\n",
        "  for count in range(1,columns*rows +1):\n",
        "    ran = randint(0,11)\n",
        "    fig.add_subplot(rows,columns,count)\n",
        "    a = x_test[ran,:,:]\n",
        "    b = \"Label\"+str(y_test[ran])\n",
        "    plt.imshow(a)\n",
        "    plt.title(b)\n",
        "\n",
        "#Function that displays data from (x_train,y_train) set\n",
        "def x2y2():\n",
        "  columns = 5\n",
        "  rows = 2\n",
        "  fig = plt.figure(figsize=(11,5))\n",
        "  #Outputs random images continuously until the limit is reached\n",
        "  for count in range(1,columns*rows +1):\n",
        "    ran = randint(0,11)\n",
        "    fig.add_subplot(rows,columns,count)\n",
        "    a = x_train[ran,:,:]\n",
        "    b = \"Label\"+str(y_train[ran])\n",
        "    plt.imshow(a)\n",
        "    plt.title(b)    \n",
        "\n",
        "#Pictures and their corresponding labels\n",
        "print(\"\\nX-train & Y-train:(First 2 rows)\")\n",
        "xy()\n",
        "#print(\"X-test & Y-test:(Last 2 rows)\")\n",
        "#x2y2()\n",
        "\n",
        "#Getting 20% of the training data\n",
        "nums = x_train.shape[0]\n",
        "x_valid = x_train[0:int(.2*nums),:,:]\n",
        "y_valid = y_train[0:int(.2*nums)]\n",
        "\n",
        "#Rest of the data\n",
        "x_train = x_train[int(.2*nums):,:,:]\n",
        "y_train = y_train[int(.2*nums):]\n",
        "print()\n",
        "print(\"20% of the images in the valid set is:\",x_valid.shape[0])\n",
        "print(\"20% of the labels in the valid set is:\",y_valid.shape[0])\n",
        "print(\"The remaining number of images in the training set is:\",x_train.shape[0])\n",
        "print(\"The remaining number of labels in the training set is:\",y_train.shape[0])"
      ],
      "execution_count": 0,
      "outputs": [
        {
          "output_type": "stream",
          "text": [
            "Using TensorFlow backend.\n"
          ],
          "name": "stderr"
        },
        {
          "output_type": "stream",
          "text": [
            "Downloading data from https://s3.amazonaws.com/img-datasets/mnist.npz\n",
            "11493376/11490434 [==============================] - 0s 0us/step\n",
            "(# of images,x-pixel size, y-pixel size): (60000, 28, 28)\n",
            "(# of images,x-pixel size, y-pixel size): (60000,)\n",
            "(# of images,x-pixel size, y-pixel size): (10000, 28, 28)\n",
            "(# of images,x-pixel size, y-pixel size): (10000,)\n",
            "\n",
            "X-train & Y-train:(First 2 rows)\n",
            "\n",
            "20% of the images in the valid set is: 12000\n",
            "20% of the labels in the valid set is: 12000\n",
            "The remaining number of images in the training set is: 48000\n",
            "The remaining number of labels in the training set is: 48000\n"
          ],
          "name": "stdout"
        },
        {
          "output_type": "display_data",
          "data": {
            "image/png": "[encoded data removed]",
            "text/plain": [
              "<Figure size 792x360 with 10 Axes>"
            ]
          },
          "metadata": {
            "tags": []
          }
        }
      ]
    }
  ]
}